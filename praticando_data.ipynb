{
  "nbformat": 4,
  "nbformat_minor": 0,
  "metadata": {
    "colab": {
      "provenance": [],
      "collapsed_sections": [
        "Rfcudw2fGOzH",
        "wmDFTHtVKrYp",
        "Ksu965vKNAs8",
        "i8fAdrWOVWyE"
      ],
      "authorship_tag": "ABX9TyM7hdzWszk1rm9SwpA1ILk+",
      "include_colab_link": true
    },
    "kernelspec": {
      "name": "python3",
      "display_name": "Python 3"
    },
    "language_info": {
      "name": "python"
    }
  },
  "cells": [
    {
      "cell_type": "markdown",
      "metadata": {
        "id": "view-in-github",
        "colab_type": "text"
      },
      "source": [
        "<a href=\"https://colab.research.google.com/github/ZCode-botlane/data_projects/blob/main/praticando_data.ipynb\" target=\"_parent\"><img src=\"https://colab.research.google.com/assets/colab-badge.svg\" alt=\"Open In Colab\"/></a>"
      ]
    },
    {
      "cell_type": "markdown",
      "source": [
        "Instalando a versão 3.7.1 da blibioteca matplotlib"
      ],
      "metadata": {
        "id": "QSHF6hog8tZq"
      }
    },
    {
      "cell_type": "code",
      "execution_count": null,
      "metadata": {
        "id": "JxtT-fWQ8npK"
      },
      "outputs": [],
      "source": [
        "!pip install matplotlib==3.7.1"
      ]
    },
    {
      "cell_type": "code",
      "source": [
        "!pip install numpy==1.26.4"
      ],
      "metadata": {
        "id": "v0p3zjil-rOn"
      },
      "execution_count": null,
      "outputs": []
    },
    {
      "cell_type": "markdown",
      "source": [
        "importando a biblioteca random e numpy com o as np"
      ],
      "metadata": {
        "id": "f1uTl7ot9NCG"
      }
    },
    {
      "cell_type": "code",
      "source": [
        "from random import choice"
      ],
      "metadata": {
        "id": "M47MMZr69LP-"
      },
      "execution_count": 4,
      "outputs": []
    },
    {
      "cell_type": "code",
      "source": [
        "from random import randrange"
      ],
      "metadata": {
        "id": "TUtLzEKdC2Go"
      },
      "execution_count": 16,
      "outputs": []
    },
    {
      "cell_type": "code",
      "source": [
        "from math import pi"
      ],
      "metadata": {
        "id": "CC_VVw-aWxja"
      },
      "execution_count": 74,
      "outputs": []
    },
    {
      "cell_type": "code",
      "source": [
        "from math import sqrt"
      ],
      "metadata": {
        "id": "R-mNGcRCTM2A"
      },
      "execution_count": 54,
      "outputs": []
    },
    {
      "cell_type": "code",
      "source": [
        "import numpy as p"
      ],
      "metadata": {
        "id": "qGDcvSAR9h_i"
      },
      "execution_count": 5,
      "outputs": []
    },
    {
      "cell_type": "code",
      "metadata": {
        "id": "ac908691"
      },
      "source": [
        "import matplotlib.pyplot as plt"
      ],
      "execution_count": 1,
      "outputs": []
    },
    {
      "cell_type": "markdown",
      "source": [
        "programa que ler a seguinte lista a baixo e escolhe um número entre elas"
      ],
      "metadata": {
        "id": "Tf5oXxeW9sqk"
      }
    },
    {
      "cell_type": "code",
      "source": [
        "lista = [8, 12, 54, 23, 43, 1, 90, 87, 105, 77]\n",
        "\n",
        "escolha = choice(lista);\n",
        "print(escolha)"
      ],
      "metadata": {
        "colab": {
          "base_uri": "https://localhost:8080/"
        },
        "id": "spiyRaGj9zwl",
        "outputId": "e729b2b3-f556-4f5b-ba43-d00514590518"
      },
      "execution_count": 15,
      "outputs": [
        {
          "output_type": "stream",
          "name": "stdout",
          "text": [
            "1\n"
          ]
        }
      ]
    },
    {
      "cell_type": "markdown",
      "source": [
        "programa que gera um numero inteiro"
      ],
      "metadata": {
        "id": "bWUDSxmDCNSY"
      }
    },
    {
      "cell_type": "code",
      "source": [
        "inteiro = randrange(100)\n",
        "print(inteiro)"
      ],
      "metadata": {
        "colab": {
          "base_uri": "https://localhost:8080/"
        },
        "id": "qiojQyYtCKno",
        "outputId": "3dda6dcf-d880-4ac6-f51b-60d36dd70baf"
      },
      "execution_count": 18,
      "outputs": [
        {
          "output_type": "stream",
          "name": "stdout",
          "text": [
            "27\n"
          ]
        }
      ]
    },
    {
      "cell_type": "markdown",
      "source": [
        "programa que calcula a potencia de uma base solicitada elevada a um expoente solicitado"
      ],
      "metadata": {
        "id": "HQ1fYKTGE35l"
      }
    },
    {
      "cell_type": "code",
      "source": [
        "x = int(input('digite um numero pra ser a base: '))\n",
        "y = int(input('digite um numero pra ser o expoente: '))\n",
        "\n",
        "potencia = pow(x , y)\n",
        "print(potencia)"
      ],
      "metadata": {
        "colab": {
          "base_uri": "https://localhost:8080/"
        },
        "id": "mpjNbTe9DqCW",
        "outputId": "8fd2572c-c7b4-4119-cafb-3843e267fc86"
      },
      "execution_count": 22,
      "outputs": [
        {
          "output_type": "stream",
          "name": "stdout",
          "text": [
            "digite um numero pra ser a base: 4\n",
            "digite um numero pra ser o expoente: 2\n",
            "16\n"
          ]
        }
      ]
    },
    {
      "cell_type": "markdown",
      "source": [
        "### programa que recebe o total de seguidores de uma conta em uma rede social qualquer (declarado pelo usuario). Logo em seguida escolhe um ganhador numero com base na quantidade declarada: se for 100, o vencedor é o numero 100 ou menor. Logo após os resgate de dados, o resultado é printado no final do codigo anunciando o vencedor"
      ],
      "metadata": {
        "id": "Rfcudw2fGOzH"
      }
    },
    {
      "cell_type": "code",
      "source": [
        "seguidores = int(input('digite o total de seguidores a participar do sorteio: '))\n",
        "ganhador = randrange(seguidores)\n",
        "print(f\"o ganhador do sorteio é o numero... {ganhador}!\")"
      ],
      "metadata": {
        "colab": {
          "base_uri": "https://localhost:8080/"
        },
        "id": "JVSP7-2KFibB",
        "outputId": "5299bbae-cb70-4f12-fe23-4bba1cbf5c52"
      },
      "execution_count": 26,
      "outputs": [
        {
          "output_type": "stream",
          "name": "stdout",
          "text": [
            "digite o total de seguidores a participar do sorteio: 1000\n",
            "o ganhador do sorteio é o numero... 727!\n"
          ]
        }
      ]
    },
    {
      "cell_type": "markdown",
      "source": [
        "### Programa responsavel por criar um token de acesso aleatorio entre 1000 e 9988, o usuário digita o seu nome ou qualquer usuario pra se referenciar, logo após o usuário é referenciado pelo nome declarado e o token"
      ],
      "metadata": {
        "id": "wmDFTHtVKrYp"
      }
    },
    {
      "cell_type": "code",
      "source": [
        "token = randrange(1000,9988,1)\n",
        "usuario = input('digite seu usuario: ')\n",
        "\n",
        "conta = print(f\"Olá, {usuario}, o seu token de acesso é {token}!\")"
      ],
      "metadata": {
        "colab": {
          "base_uri": "https://localhost:8080/"
        },
        "id": "rwbIk1Q9HnhW",
        "outputId": "552607af-e681-4155-fd94-fe71feb60337"
      },
      "execution_count": 37,
      "outputs": [
        {
          "output_type": "stream",
          "name": "stdout",
          "text": [
            "digite seu usuariodaniel\n",
            "Olá, daniel, o seu token de acesso é 3378!\n"
          ]
        }
      ]
    },
    {
      "cell_type": "markdown",
      "source": [
        "### Código responsável por selecionar 3 frutas a se compor em uma salada surpresa, as frutas são selecionadas a partir de um loop for e uma função choice"
      ],
      "metadata": {
        "id": "Ksu965vKNAs8"
      }
    },
    {
      "cell_type": "code",
      "source": [
        "frutas = [\"maçã\", \"banana\", \"uva\", \"pêra\",\n",
        "          \"manga\", \"coco\", \"melancia\", \"mamão\",\n",
        "          \"laranja\", \"abacaxi\", \"kiwi\", \"ameixa\"]\n",
        "\n",
        "for i in range(3):\n",
        "  selecao_frutas = choice(frutas)\n",
        "  print(selecao_frutas)"
      ],
      "metadata": {
        "colab": {
          "base_uri": "https://localhost:8080/"
        },
        "id": "9cOwVdJ3M_Zk",
        "outputId": "f0b9ccff-2570-4f80-c65a-d5d691f52405"
      },
      "execution_count": 49,
      "outputs": [
        {
          "output_type": "stream",
          "name": "stdout",
          "text": [
            "mamão\n",
            "manga\n",
            "laranja\n"
          ]
        }
      ]
    },
    {
      "cell_type": "markdown",
      "source": [
        "### Codigo responsavel por verificar se a raiz quadrada de cada elemento da lista declarada a baixo é inteiro"
      ],
      "metadata": {
        "id": "i8fAdrWOVWyE"
      }
    },
    {
      "cell_type": "code",
      "source": [
        "numeros = [2, 8, 15, 23, 91, 112, 256]\n",
        "\n",
        "for i in range(len(numeros)):\n",
        "  raiz_quadrada = sqrt(numeros[i])\n",
        "  print(raiz_quadrada // 1 == raiz_quadrada)\n"
      ],
      "metadata": {
        "colab": {
          "base_uri": "https://localhost:8080/"
        },
        "id": "iOcGTSIAPhVD",
        "outputId": "b3529425-b9e5-4073-b0e8-f9c1d2fa5363"
      },
      "execution_count": 72,
      "outputs": [
        {
          "output_type": "stream",
          "name": "stdout",
          "text": [
            "False\n",
            "False\n",
            "False\n",
            "False\n",
            "False\n",
            "False\n",
            "True\n"
          ]
        }
      ]
    },
    {
      "cell_type": "markdown",
      "source": [
        "### Código responsavel por calcular o preço de um lote com base no raio solicitado pelo cliente na primeira linha. Logo após é calculada a area do circulo na linha logo após. Por fim, é feita a multiplicação do resultado da area pelo preço resultando no valor total do lote"
      ],
      "metadata": {
        "id": "ZRBw9vspYOSk"
      }
    },
    {
      "cell_type": "code",
      "source": [
        "r = float(input('digite o raio a ser calculado a area: '))\n",
        "A = pi*pow(r,2)\n",
        "preco = int(A*25)\n",
        "print(f\"R${preco}\")"
      ],
      "metadata": {
        "colab": {
          "base_uri": "https://localhost:8080/"
        },
        "id": "vqvRt-U5WXdY",
        "outputId": "4ef4e383-c463-4fa9-a98e-db39a8423eff"
      },
      "execution_count": 84,
      "outputs": [
        {
          "output_type": "stream",
          "name": "stdout",
          "text": [
            "digite o raio a ser calculado a area: 20\n",
            "R$31415\n"
          ]
        }
      ]
    }
  ]
}